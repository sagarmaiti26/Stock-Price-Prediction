{
 "cells": [
  {
   "cell_type": "code",
   "execution_count": 2,
   "id": "44640ea0",
   "metadata": {},
   "outputs": [],
   "source": [
    "#Importing required libraries\n",
    "import numpy as np\n",
    "import matplotlib.pyplot as plt\n",
    "import pandas as pd\n",
    "from sklearn import preprocessing\n",
    "from sklearn import metrics\n",
    "from sklearn.model_selection import train_test_split\n",
    "from sklearn.linear_model import LinearRegression\n"
   ]
  },
  {
   "cell_type": "code",
   "execution_count": 3,
   "id": "529da252",
   "metadata": {},
   "outputs": [
    {
     "data": {
      "text/html": [
       "<div>\n",
       "<style scoped>\n",
       "    .dataframe tbody tr th:only-of-type {\n",
       "        vertical-align: middle;\n",
       "    }\n",
       "\n",
       "    .dataframe tbody tr th {\n",
       "        vertical-align: top;\n",
       "    }\n",
       "\n",
       "    .dataframe thead th {\n",
       "        text-align: right;\n",
       "    }\n",
       "</style>\n",
       "<table border=\"1\" class=\"dataframe\">\n",
       "  <thead>\n",
       "    <tr style=\"text-align: right;\">\n",
       "      <th></th>\n",
       "      <th>Date</th>\n",
       "      <th>Index</th>\n",
       "      <th>Open</th>\n",
       "      <th>High</th>\n",
       "      <th>Low</th>\n",
       "      <th>Close</th>\n",
       "      <th>Volume</th>\n",
       "      <th>Currency</th>\n",
       "    </tr>\n",
       "  </thead>\n",
       "  <tbody>\n",
       "    <tr>\n",
       "      <th>0</th>\n",
       "      <td>1995-11-06</td>\n",
       "      <td>NIFTY 50</td>\n",
       "      <td>1001.53</td>\n",
       "      <td>1001.53</td>\n",
       "      <td>988.92</td>\n",
       "      <td>988.92</td>\n",
       "      <td>0</td>\n",
       "      <td>INR</td>\n",
       "    </tr>\n",
       "    <tr>\n",
       "      <th>1</th>\n",
       "      <td>1995-11-07</td>\n",
       "      <td>NIFTY 50</td>\n",
       "      <td>987.17</td>\n",
       "      <td>987.17</td>\n",
       "      <td>977.05</td>\n",
       "      <td>978.22</td>\n",
       "      <td>0</td>\n",
       "      <td>INR</td>\n",
       "    </tr>\n",
       "    <tr>\n",
       "      <th>2</th>\n",
       "      <td>1995-11-08</td>\n",
       "      <td>NIFTY 50</td>\n",
       "      <td>976.28</td>\n",
       "      <td>976.28</td>\n",
       "      <td>962.98</td>\n",
       "      <td>964.01</td>\n",
       "      <td>0</td>\n",
       "      <td>INR</td>\n",
       "    </tr>\n",
       "    <tr>\n",
       "      <th>3</th>\n",
       "      <td>1995-11-09</td>\n",
       "      <td>NIFTY 50</td>\n",
       "      <td>960.32</td>\n",
       "      <td>960.32</td>\n",
       "      <td>952.13</td>\n",
       "      <td>953.07</td>\n",
       "      <td>0</td>\n",
       "      <td>INR</td>\n",
       "    </tr>\n",
       "    <tr>\n",
       "      <th>4</th>\n",
       "      <td>1995-11-10</td>\n",
       "      <td>NIFTY 50</td>\n",
       "      <td>951.93</td>\n",
       "      <td>951.93</td>\n",
       "      <td>946.00</td>\n",
       "      <td>948.82</td>\n",
       "      <td>0</td>\n",
       "      <td>INR</td>\n",
       "    </tr>\n",
       "  </tbody>\n",
       "</table>\n",
       "</div>"
      ],
      "text/plain": [
       "         Date     Index     Open     High     Low   Close  Volume Currency\n",
       "0  1995-11-06  NIFTY 50  1001.53  1001.53  988.92  988.92       0      INR\n",
       "1  1995-11-07  NIFTY 50   987.17   987.17  977.05  978.22       0      INR\n",
       "2  1995-11-08  NIFTY 50   976.28   976.28  962.98  964.01       0      INR\n",
       "3  1995-11-09  NIFTY 50   960.32   960.32  952.13  953.07       0      INR\n",
       "4  1995-11-10  NIFTY 50   951.93   951.93  946.00  948.82       0      INR"
      ]
     },
     "execution_count": 3,
     "metadata": {},
     "output_type": "execute_result"
    }
   ],
   "source": [
    "#Data Preparation And Visualization\n",
    "data = pd.read_csv(\"nse_indexes.csv\")\n",
    "data.head()\n"
   ]
  },
  {
   "cell_type": "code",
   "execution_count": 4,
   "id": "4cafbf66",
   "metadata": {},
   "outputs": [
    {
     "name": "stdout",
     "output_type": "stream",
     "text": [
      "<class 'pandas.core.frame.DataFrame'>\n",
      "RangeIndex: 87536 entries, 0 to 87535\n",
      "Data columns (total 8 columns):\n",
      " #   Column    Non-Null Count  Dtype  \n",
      "---  ------    --------------  -----  \n",
      " 0   Date      87536 non-null  object \n",
      " 1   Index     87536 non-null  object \n",
      " 2   Open      87536 non-null  float64\n",
      " 3   High      87536 non-null  float64\n",
      " 4   Low       87536 non-null  float64\n",
      " 5   Close     87536 non-null  float64\n",
      " 6   Volume    87536 non-null  int64  \n",
      " 7   Currency  87536 non-null  object \n",
      "dtypes: float64(4), int64(1), object(3)\n",
      "memory usage: 5.3+ MB\n"
     ]
    }
   ],
   "source": [
    "data.info()"
   ]
  },
  {
   "cell_type": "code",
   "execution_count": 5,
   "id": "f1c4d7c3",
   "metadata": {},
   "outputs": [
    {
     "data": {
      "text/html": [
       "<div>\n",
       "<style scoped>\n",
       "    .dataframe tbody tr th:only-of-type {\n",
       "        vertical-align: middle;\n",
       "    }\n",
       "\n",
       "    .dataframe tbody tr th {\n",
       "        vertical-align: top;\n",
       "    }\n",
       "\n",
       "    .dataframe thead th {\n",
       "        text-align: right;\n",
       "    }\n",
       "</style>\n",
       "<table border=\"1\" class=\"dataframe\">\n",
       "  <thead>\n",
       "    <tr style=\"text-align: right;\">\n",
       "      <th></th>\n",
       "      <th>Open</th>\n",
       "      <th>High</th>\n",
       "      <th>Low</th>\n",
       "      <th>Close</th>\n",
       "      <th>Volume</th>\n",
       "    </tr>\n",
       "  </thead>\n",
       "  <tbody>\n",
       "    <tr>\n",
       "      <th>count</th>\n",
       "      <td>87536.000000</td>\n",
       "      <td>87536.000000</td>\n",
       "      <td>87536.000000</td>\n",
       "      <td>87536.000000</td>\n",
       "      <td>8.753600e+04</td>\n",
       "    </tr>\n",
       "    <tr>\n",
       "      <th>mean</th>\n",
       "      <td>6887.871426</td>\n",
       "      <td>6933.635670</td>\n",
       "      <td>6830.964597</td>\n",
       "      <td>6881.640576</td>\n",
       "      <td>1.935475e+10</td>\n",
       "    </tr>\n",
       "    <tr>\n",
       "      <th>std</th>\n",
       "      <td>7143.736966</td>\n",
       "      <td>7186.844841</td>\n",
       "      <td>7084.755363</td>\n",
       "      <td>7135.458672</td>\n",
       "      <td>1.024960e+11</td>\n",
       "    </tr>\n",
       "    <tr>\n",
       "      <th>min</th>\n",
       "      <td>10.447500</td>\n",
       "      <td>10.807500</td>\n",
       "      <td>8.740000</td>\n",
       "      <td>10.447500</td>\n",
       "      <td>0.000000e+00</td>\n",
       "    </tr>\n",
       "    <tr>\n",
       "      <th>25%</th>\n",
       "      <td>2183.662500</td>\n",
       "      <td>2199.765000</td>\n",
       "      <td>2166.245000</td>\n",
       "      <td>2182.212500</td>\n",
       "      <td>0.000000e+00</td>\n",
       "    </tr>\n",
       "    <tr>\n",
       "      <th>50%</th>\n",
       "      <td>4240.325000</td>\n",
       "      <td>4274.825000</td>\n",
       "      <td>4196.725000</td>\n",
       "      <td>4237.250000</td>\n",
       "      <td>8.948500e+06</td>\n",
       "    </tr>\n",
       "    <tr>\n",
       "      <th>75%</th>\n",
       "      <td>9417.187500</td>\n",
       "      <td>9478.575000</td>\n",
       "      <td>9344.212500</td>\n",
       "      <td>9408.612500</td>\n",
       "      <td>1.068200e+08</td>\n",
       "    </tr>\n",
       "    <tr>\n",
       "      <th>max</th>\n",
       "      <td>45216.550000</td>\n",
       "      <td>45290.800000</td>\n",
       "      <td>44657.000000</td>\n",
       "      <td>44708.100000</td>\n",
       "      <td>1.971784e+12</td>\n",
       "    </tr>\n",
       "  </tbody>\n",
       "</table>\n",
       "</div>"
      ],
      "text/plain": [
       "               Open          High           Low         Close        Volume\n",
       "count  87536.000000  87536.000000  87536.000000  87536.000000  8.753600e+04\n",
       "mean    6887.871426   6933.635670   6830.964597   6881.640576  1.935475e+10\n",
       "std     7143.736966   7186.844841   7084.755363   7135.458672  1.024960e+11\n",
       "min       10.447500     10.807500      8.740000     10.447500  0.000000e+00\n",
       "25%     2183.662500   2199.765000   2166.245000   2182.212500  0.000000e+00\n",
       "50%     4240.325000   4274.825000   4196.725000   4237.250000  8.948500e+06\n",
       "75%     9417.187500   9478.575000   9344.212500   9408.612500  1.068200e+08\n",
       "max    45216.550000  45290.800000  44657.000000  44708.100000  1.971784e+12"
      ]
     },
     "execution_count": 5,
     "metadata": {},
     "output_type": "execute_result"
    }
   ],
   "source": [
    "data.describe()"
   ]
  },
  {
   "cell_type": "code",
   "execution_count": 6,
   "id": "40a94a6c",
   "metadata": {},
   "outputs": [
    {
     "name": "stdout",
     "output_type": "stream",
     "text": [
      "[[1001.53  988.92 1001.53    0.  ]\n",
      " [ 987.17  977.05  987.17    0.  ]\n",
      " [ 976.28  962.98  976.28    0.  ]\n",
      " ...\n",
      " [2344.42 2334.43 2344.42    0.  ]\n",
      " [2335.28 2332.73 2334.18    0.  ]\n",
      " [2337.8  2335.99 2335.99    0.  ]]\n"
     ]
    }
   ],
   "source": [
    "#Splitting Data In X and Y\n",
    "X = data[['High','Low','Open','Volume']].values\n",
    "y = data['Close'].values\n",
    "print(X)"
   ]
  },
  {
   "cell_type": "code",
   "execution_count": 7,
   "id": "b92256e2",
   "metadata": {},
   "outputs": [
    {
     "name": "stdout",
     "output_type": "stream",
     "text": [
      "[ 988.92  978.22  964.01 ... 2334.5  2333.3  2337.64]\n"
     ]
    }
   ],
   "source": [
    "print(y)"
   ]
  },
  {
   "cell_type": "code",
   "execution_count": 8,
   "id": "5f74e841",
   "metadata": {},
   "outputs": [],
   "source": [
    "#Test-Train Split\n",
    "X_train, X_test, y_train, y_test = train_test_split(X,y, test_size=0.3, random_state=1)"
   ]
  },
  {
   "cell_type": "code",
   "execution_count": 9,
   "id": "8cded92a",
   "metadata": {},
   "outputs": [
    {
     "name": "stdout",
     "output_type": "stream",
     "text": [
      "[ 8.66428662e-01  7.68060961e-01 -6.34583038e-01  5.16593206e-12]\n",
      "[ 6210.74478151  1794.63305809  2682.578382   ...  1787.46723752\n",
      " 12078.92144839  2381.3829392 ]\n"
     ]
    }
   ],
   "source": [
    "#Training the Model\n",
    "\n",
    "\n",
    "#from sklearn.linear_model import LinearRegression\n",
    "# Create Regression Model \n",
    "Model = LinearRegression()\n",
    "\n",
    "# Train the model\n",
    "Model.fit(X_train, y_train)\n",
    "#Printing Coefficient\n",
    "print(Model.coef_)\n",
    "\n",
    "# Use model to make predictions\n",
    "predicted = Model.predict(X_test) \n",
    "print(predicted)"
   ]
  },
  {
   "cell_type": "code",
   "execution_count": 10,
   "id": "8d6a7d01",
   "metadata": {},
   "outputs": [
    {
     "data": {
      "text/html": [
       "<div>\n",
       "<style scoped>\n",
       "    .dataframe tbody tr th:only-of-type {\n",
       "        vertical-align: middle;\n",
       "    }\n",
       "\n",
       "    .dataframe tbody tr th {\n",
       "        vertical-align: top;\n",
       "    }\n",
       "\n",
       "    .dataframe thead th {\n",
       "        text-align: right;\n",
       "    }\n",
       "</style>\n",
       "<table border=\"1\" class=\"dataframe\">\n",
       "  <thead>\n",
       "    <tr style=\"text-align: right;\">\n",
       "      <th></th>\n",
       "      <th>Actual</th>\n",
       "      <th>Predicted</th>\n",
       "    </tr>\n",
       "  </thead>\n",
       "  <tbody>\n",
       "    <tr>\n",
       "      <th>0</th>\n",
       "      <td>6194.25</td>\n",
       "      <td>6210.744782</td>\n",
       "    </tr>\n",
       "    <tr>\n",
       "      <th>1</th>\n",
       "      <td>1796.59</td>\n",
       "      <td>1794.633058</td>\n",
       "    </tr>\n",
       "    <tr>\n",
       "      <th>2</th>\n",
       "      <td>2717.00</td>\n",
       "      <td>2682.578382</td>\n",
       "    </tr>\n",
       "    <tr>\n",
       "      <th>3</th>\n",
       "      <td>2977.85</td>\n",
       "      <td>2997.195909</td>\n",
       "    </tr>\n",
       "    <tr>\n",
       "      <th>4</th>\n",
       "      <td>8318.10</td>\n",
       "      <td>8298.651191</td>\n",
       "    </tr>\n",
       "    <tr>\n",
       "      <th>5</th>\n",
       "      <td>1590.55</td>\n",
       "      <td>1590.538312</td>\n",
       "    </tr>\n",
       "    <tr>\n",
       "      <th>6</th>\n",
       "      <td>3534.20</td>\n",
       "      <td>3542.078506</td>\n",
       "    </tr>\n",
       "    <tr>\n",
       "      <th>7</th>\n",
       "      <td>2693.70</td>\n",
       "      <td>2707.422483</td>\n",
       "    </tr>\n",
       "    <tr>\n",
       "      <th>8</th>\n",
       "      <td>5799.30</td>\n",
       "      <td>5762.883543</td>\n",
       "    </tr>\n",
       "    <tr>\n",
       "      <th>9</th>\n",
       "      <td>10340.10</td>\n",
       "      <td>10306.233890</td>\n",
       "    </tr>\n",
       "    <tr>\n",
       "      <th>10</th>\n",
       "      <td>2843.70</td>\n",
       "      <td>2844.703005</td>\n",
       "    </tr>\n",
       "    <tr>\n",
       "      <th>11</th>\n",
       "      <td>5849.75</td>\n",
       "      <td>5858.697457</td>\n",
       "    </tr>\n",
       "    <tr>\n",
       "      <th>12</th>\n",
       "      <td>5818.60</td>\n",
       "      <td>5808.327330</td>\n",
       "    </tr>\n",
       "    <tr>\n",
       "      <th>13</th>\n",
       "      <td>17024.10</td>\n",
       "      <td>16997.770036</td>\n",
       "    </tr>\n",
       "    <tr>\n",
       "      <th>14</th>\n",
       "      <td>10884.80</td>\n",
       "      <td>10903.811219</td>\n",
       "    </tr>\n",
       "    <tr>\n",
       "      <th>15</th>\n",
       "      <td>2203.67</td>\n",
       "      <td>2202.740800</td>\n",
       "    </tr>\n",
       "    <tr>\n",
       "      <th>16</th>\n",
       "      <td>9743.05</td>\n",
       "      <td>9745.228495</td>\n",
       "    </tr>\n",
       "    <tr>\n",
       "      <th>17</th>\n",
       "      <td>4452.10</td>\n",
       "      <td>4458.685090</td>\n",
       "    </tr>\n",
       "    <tr>\n",
       "      <th>18</th>\n",
       "      <td>13971.00</td>\n",
       "      <td>14003.079511</td>\n",
       "    </tr>\n",
       "    <tr>\n",
       "      <th>19</th>\n",
       "      <td>9985.90</td>\n",
       "      <td>9986.448104</td>\n",
       "    </tr>\n",
       "  </tbody>\n",
       "</table>\n",
       "</div>"
      ],
      "text/plain": [
       "      Actual     Predicted\n",
       "0    6194.25   6210.744782\n",
       "1    1796.59   1794.633058\n",
       "2    2717.00   2682.578382\n",
       "3    2977.85   2997.195909\n",
       "4    8318.10   8298.651191\n",
       "5    1590.55   1590.538312\n",
       "6    3534.20   3542.078506\n",
       "7    2693.70   2707.422483\n",
       "8    5799.30   5762.883543\n",
       "9   10340.10  10306.233890\n",
       "10   2843.70   2844.703005\n",
       "11   5849.75   5858.697457\n",
       "12   5818.60   5808.327330\n",
       "13  17024.10  16997.770036\n",
       "14  10884.80  10903.811219\n",
       "15   2203.67   2202.740800\n",
       "16   9743.05   9745.228495\n",
       "17   4452.10   4458.685090\n",
       "18  13971.00  14003.079511\n",
       "19   9985.90   9986.448104"
      ]
     },
     "execution_count": 10,
     "metadata": {},
     "output_type": "execute_result"
    }
   ],
   "source": [
    "#Combining The Actual and Predicted data to match\n",
    "data1 = pd.DataFrame({'Actual': y_test.flatten(), 'Predicted' : predicted.flatten()})\n",
    "data1.head(20)"
   ]
  },
  {
   "cell_type": "code",
   "execution_count": 11,
   "id": "415b62b7",
   "metadata": {},
   "outputs": [
    {
     "name": "stdout",
     "output_type": "stream",
     "text": [
      "Mean Absolute Error: 20.574366012758272\n",
      "Mean Squared Error: 1765.4920615622084\n",
      "Root Mean Squared Error: 42.017758883146165\n"
     ]
    }
   ],
   "source": [
    "#Validating the Fit\n",
    "import math\n",
    "print('Mean Absolute Error:', metrics.mean_absolute_error(y_test,predicted))\n",
    "print('Mean Squared Error:', metrics.mean_squared_error(y_test,predicted))\n",
    "print('Root Mean Squared Error:', math.sqrt(metrics.mean_squared_error(y_test,predicted)))\n"
   ]
  },
  {
   "cell_type": "code",
   "execution_count": 12,
   "id": "b50cba83",
   "metadata": {},
   "outputs": [
    {
     "data": {
      "text/plain": [
       "<AxesSubplot:>"
      ]
     },
     "execution_count": 12,
     "metadata": {},
     "output_type": "execute_result"
    },
    {
     "data": {
      "image/png": "[encoded data removed]",
      "text/plain": [
       "<Figure size 432x288 with 1 Axes>"
      ]
     },
     "metadata": {
      "needs_background": "light"
     },
     "output_type": "display_data"
    }
   ],
   "source": [
    "#Consider the following chart of our observed values versus expected values to see how this is portrayed visually:\n",
    "graph = data1.head(20)\n",
    "graph.plot(kind='bar')"
   ]
  },
  {
   "cell_type": "code",
   "execution_count": null,
   "id": "7ec25f89",
   "metadata": {},
   "outputs": [],
   "source": []
  }
 ],
 "metadata": {
  "kernelspec": {
   "display_name": "base",
   "language": "python",
   "name": "python3"
  },
  "language_info": {
   "codemirror_mode": {
    "name": "ipython",
    "version": 3
   },
   "file_extension": ".py",
   "mimetype": "text/x-python",
   "name": "python",
   "nbconvert_exporter": "python",
   "pygments_lexer": "ipython3",
   "version": "3.9.12"
  },
  "vscode": {
   "interpreter": {
    "hash": "7757720d539d6b0a881b2f834c0fe7bb89812ba93fa9a2c3f9e5b4a3e094edd3"
   }
  }
 },
 "nbformat": 4,
 "nbformat_minor": 5
}
